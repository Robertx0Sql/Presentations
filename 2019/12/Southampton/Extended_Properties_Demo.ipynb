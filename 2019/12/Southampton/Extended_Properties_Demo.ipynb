{
    "metadata": {
        "kernelspec": {
            "name": "SQL",
            "display_name": "SQL",
            "language": "sql"
        },
        "language_info": {
            "name": "sql",
            "version": ""
        }
    },
    "nbformat_minor": 2,
    "nbformat": 4,
    "cells": [
        {
            "cell_type": "code",
            "source": [
                "USE [master]\r\n",
                "GO\r\n",
                "ALTER DATABASE [test] SET  SINGLE_USER WITH ROLLBACK IMMEDIATE\r\n",
                "GO\r\n",
                "USE [master]\r\n",
                "GO\r\n",
                "DROP DATABASE [test]\r\n",
                "GO\r\n",
                "\r\n",
                "/****** Object:  Database [test]    Script Date: 30/11/2019 22:11:40 ******/\r\n",
                "CREATE DATABASE [test]\r\n",
                ""
            ],
            "metadata": {
                "azdata_cell_guid": "8c8623dd-2f25-42e0-8366-3a9e3e9816fe",
                "tags": []
            },
            "outputs": [
                {
                    "output_type": "display_data",
                    "data": {
                        "text/html": "Commands completed successfully."
                    },
                    "metadata": {}
                },
                {
                    "output_type": "display_data",
                    "data": {
                        "text/html": "Commands completed successfully."
                    },
                    "metadata": {}
                },
                {
                    "output_type": "display_data",
                    "data": {
                        "text/html": "Commands completed successfully."
                    },
                    "metadata": {}
                },
                {
                    "output_type": "display_data",
                    "data": {
                        "text/html": "Commands completed successfully."
                    },
                    "metadata": {}
                },
                {
                    "output_type": "display_data",
                    "data": {
                        "text/html": "Commands completed successfully."
                    },
                    "metadata": {}
                },
                {
                    "output_type": "display_data",
                    "data": {
                        "text/html": "Total execution time: 00:00:00.171"
                    },
                    "metadata": {}
                }
            ],
            "execution_count": 7
        },
        {
            "cell_type": "markdown",
            "source": [
                "create table tbl"
            ],
            "metadata": {
                "azdata_cell_guid": "2bfb4ee7-1a5b-474b-bd8d-d09db8464547"
            }
        },
        {
            "cell_type": "code",
            "source": [
                "GO\r\n",
                "set NOCOUNT on ;\r\n",
                "go\r\n",
                "use test;\r\n",
                "go\r\n",
                "drop table if exists  tbl;\r\n",
                "go\r\n",
                "create table tbl(f1 int , f2 varchar(10))\r\n",
                "GO\r\n",
                "select * from sys.objects where type='u'"
            ],
            "metadata": {
                "azdata_cell_guid": "d365f3a9-f6f6-47c9-8ab8-1950cafd73a3",
                "tags": [
                    "hide_input"
                ]
            },
            "outputs": [
                {
                    "output_type": "display_data",
                    "data": {
                        "text/html": "Commands completed successfully."
                    },
                    "metadata": {}
                },
                {
                    "output_type": "display_data",
                    "data": {
                        "text/html": "Commands completed successfully."
                    },
                    "metadata": {}
                },
                {
                    "output_type": "display_data",
                    "data": {
                        "text/html": "Commands completed successfully."
                    },
                    "metadata": {}
                },
                {
                    "output_type": "display_data",
                    "data": {
                        "text/html": "Commands completed successfully."
                    },
                    "metadata": {}
                },
                {
                    "output_type": "display_data",
                    "data": {
                        "text/html": "Commands completed successfully."
                    },
                    "metadata": {}
                },
                {
                    "output_type": "display_data",
                    "data": {
                        "text/html": "Total execution time: 00:00:00.040"
                    },
                    "metadata": {}
                },
                {
                    "output_type": "execute_result",
                    "metadata": {},
                    "execution_count": 10,
                    "data": {
                        "application/vnd.dataresource+json": {
                            "schema": {
                                "fields": [
                                    {
                                        "name": "name"
                                    },
                                    {
                                        "name": "object_id"
                                    },
                                    {
                                        "name": "principal_id"
                                    },
                                    {
                                        "name": "schema_id"
                                    },
                                    {
                                        "name": "parent_object_id"
                                    },
                                    {
                                        "name": "type"
                                    },
                                    {
                                        "name": "type_desc"
                                    },
                                    {
                                        "name": "create_date"
                                    },
                                    {
                                        "name": "modify_date"
                                    },
                                    {
                                        "name": "is_ms_shipped"
                                    },
                                    {
                                        "name": "is_published"
                                    },
                                    {
                                        "name": "is_schema_published"
                                    }
                                ]
                            },
                            "data": [
                                {
                                    "0": "tbl",
                                    "1": "933578364",
                                    "2": "NULL",
                                    "3": "1",
                                    "4": "0",
                                    "5": "U ",
                                    "6": "USER_TABLE",
                                    "7": "2019-12-02 22:59:27.970",
                                    "8": "2019-12-02 22:59:27.970",
                                    "9": "0",
                                    "10": "0",
                                    "11": "0"
                                }
                            ]
                        },
                        "text/html": "<table><tr><th>name</th><th>object_id</th><th>principal_id</th><th>schema_id</th><th>parent_object_id</th><th>type</th><th>type_desc</th><th>create_date</th><th>modify_date</th><th>is_ms_shipped</th><th>is_published</th><th>is_schema_published</th></tr><tr><td>tbl</td><td>933578364</td><td>NULL</td><td>1</td><td>0</td><td>U </td><td>USER_TABLE</td><td>2019-12-02 22:59:27.970</td><td>2019-12-02 22:59:27.970</td><td>0</td><td>0</td><td>0</td></tr></table>"
                    }
                }
            ],
            "execution_count": 10
        },
        {
            "cell_type": "code",
            "source": [
                "\r\n",
                "select * from sys.extended_properties "
            ],
            "metadata": {
                "azdata_cell_guid": "e24224fb-99a5-4561-b87a-7af4320a29e9"
            },
            "outputs": [
                {
                    "output_type": "display_data",
                    "data": {
                        "text/html": "Commands completed successfully."
                    },
                    "metadata": {}
                },
                {
                    "output_type": "display_data",
                    "data": {
                        "text/html": "Total execution time: 00:00:00.009"
                    },
                    "metadata": {}
                },
                {
                    "output_type": "execute_result",
                    "metadata": {},
                    "execution_count": 11,
                    "data": {
                        "application/vnd.dataresource+json": {
                            "schema": {
                                "fields": [
                                    {
                                        "name": "class"
                                    },
                                    {
                                        "name": "class_desc"
                                    },
                                    {
                                        "name": "major_id"
                                    },
                                    {
                                        "name": "minor_id"
                                    },
                                    {
                                        "name": "name"
                                    },
                                    {
                                        "name": "value"
                                    }
                                ]
                            },
                            "data": []
                        },
                        "text/html": "<table><tr><th>class</th><th>class_desc</th><th>major_id</th><th>minor_id</th><th>name</th><th>value</th></tr></table>"
                    }
                }
            ],
            "execution_count": 11
        },
        {
            "cell_type": "code",
            "source": [
                "Use Test;\r\n",
                "go\r\n",
                "\r\n",
                "EXEC sys.sp_addextendedproperty @name=N'MS_Description'\r\n",
                ", @value=N'Database description for extended property' \r\n",
                "GO\r\n",
                "/* table data */\r\n",
                "EXEC sys.sp_addextendedproperty @name=N'MS_Description'\r\n",
                ", @value=N'test table for document properties.' \r\n",
                ", @level0type=N'SCHEMA',@level0name=N'dbo'\r\n",
                ", @level1type=N'TABLE',@level1name=N'tbl'\r\n",
                "\r\n",
                "/* Column Level Properties*/\r\n",
                "GO\r\n",
                "EXEC sys.sp_addextendedproperty @name=N'MS_Description'\r\n",
                " , @value=N'Pf1 document description .'\r\n",
                ", @level0type=N'SCHEMA',@level0name=N'dbo'\r\n",
                ", @level1type=N'TABLE',@level1name=N'tbl'\r\n",
                " , @level2type=N'COLUMN',@level2name=N'f1'\r\n",
                "GO\r\n",
                "\r\n",
                "/* Column Level Properties*/\r\n",
                "GO\r\n",
                "EXEC sys.sp_addextendedproperty @name=N'MS_Description'\r\n",
                " , @value=N'f2 code field .'\r\n",
                ", @level0type=N'SCHEMA',@level0name=N'dbo'\r\n",
                ", @level1type=N'TABLE',@level1name=N'tbl'\r\n",
                " , @level2type=N'COLUMN',@level2name=N'f2'\r\n",
                "GO\r\n",
                "\r\n",
                ""
            ],
            "metadata": {
                "azdata_cell_guid": "a5552b94-9325-4557-a1aa-17db151b9e12"
            },
            "outputs": [
                {
                    "output_type": "display_data",
                    "data": {
                        "text/html": "Commands completed successfully."
                    },
                    "metadata": {}
                },
                {
                    "output_type": "display_data",
                    "data": {
                        "text/html": "Commands completed successfully."
                    },
                    "metadata": {}
                },
                {
                    "output_type": "error",
                    "evalue": "Msg 15233, Level 16, State 1, Procedure sys.sp_addextendedproperty, Line 37\r\nProperty cannot be added. Property 'MS_Description' already exists for 'dbo.tbl'.",
                    "ename": "",
                    "traceback": []
                },
                {
                    "output_type": "error",
                    "evalue": "Msg 15233, Level 16, State 1, Procedure sys.sp_addextendedproperty, Line 37\r\nProperty cannot be added. Property 'MS_Description' already exists for 'dbo.tbl.f1'.",
                    "ename": "",
                    "traceback": []
                },
                {
                    "output_type": "display_data",
                    "data": {
                        "text/html": "Commands completed successfully."
                    },
                    "metadata": {}
                },
                {
                    "output_type": "error",
                    "evalue": "Msg 15233, Level 16, State 1, Procedure sys.sp_addextendedproperty, Line 37\r\nProperty cannot be added. Property 'MS_Description' already exists for 'dbo.tbl.f2'.",
                    "ename": "",
                    "traceback": []
                },
                {
                    "output_type": "display_data",
                    "data": {
                        "text/html": "Total execution time: 00:00:00.010"
                    },
                    "metadata": {}
                }
            ],
            "execution_count": 15
        },
        {
            "cell_type": "code",
            "source": [
                "\r\n",
                "select * from sys.extended_properties \r\n",
                ""
            ],
            "metadata": {
                "azdata_cell_guid": "f374b0b9-5af2-4d0f-a231-737f406e7e9e"
            },
            "outputs": [
                {
                    "output_type": "display_data",
                    "data": {
                        "text/html": "Commands completed successfully."
                    },
                    "metadata": {}
                },
                {
                    "output_type": "display_data",
                    "data": {
                        "text/html": "Total execution time: 00:00:00.021"
                    },
                    "metadata": {}
                },
                {
                    "output_type": "execute_result",
                    "metadata": {},
                    "execution_count": 16,
                    "data": {
                        "application/vnd.dataresource+json": {
                            "schema": {
                                "fields": [
                                    {
                                        "name": "class"
                                    },
                                    {
                                        "name": "class_desc"
                                    },
                                    {
                                        "name": "major_id"
                                    },
                                    {
                                        "name": "minor_id"
                                    },
                                    {
                                        "name": "name"
                                    },
                                    {
                                        "name": "value"
                                    }
                                ]
                            },
                            "data": [
                                {
                                    "0": "0",
                                    "1": "DATABASE",
                                    "2": "0",
                                    "3": "0",
                                    "4": "MS_Description",
                                    "5": "Database description for extended property"
                                },
                                {
                                    "0": "1",
                                    "1": "OBJECT_OR_COLUMN",
                                    "2": "933578364",
                                    "3": "0",
                                    "4": "MS_Description",
                                    "5": "test table for document properties."
                                },
                                {
                                    "0": "1",
                                    "1": "OBJECT_OR_COLUMN",
                                    "2": "933578364",
                                    "3": "1",
                                    "4": "MS_Description",
                                    "5": "Pf1 document description ."
                                },
                                {
                                    "0": "1",
                                    "1": "OBJECT_OR_COLUMN",
                                    "2": "933578364",
                                    "3": "2",
                                    "4": "MS_Description",
                                    "5": "f2 code field ."
                                }
                            ]
                        },
                        "text/html": "<table><tr><th>class</th><th>class_desc</th><th>major_id</th><th>minor_id</th><th>name</th><th>value</th></tr><tr><td>0</td><td>DATABASE</td><td>0</td><td>0</td><td>MS_Description</td><td>Database description for extended property</td></tr><tr><td>1</td><td>OBJECT_OR_COLUMN</td><td>933578364</td><td>0</td><td>MS_Description</td><td>test table for document properties.</td></tr><tr><td>1</td><td>OBJECT_OR_COLUMN</td><td>933578364</td><td>1</td><td>MS_Description</td><td>Pf1 document description .</td></tr><tr><td>1</td><td>OBJECT_OR_COLUMN</td><td>933578364</td><td>2</td><td>MS_Description</td><td>f2 code field .</td></tr></table>"
                    }
                }
            ],
            "execution_count": 16
        },
        {
            "cell_type": "code",
            "source": [
                "use test\r\n",
                "SELECT \r\n",
                "\t\t@@SERVERNAME AS SERVERNAME\r\n",
                "\t\t,DB_NAME() AS DatabaseName\r\n",
                "\t\t,[ObjectType] = obj.TYPE\r\n",
                "\t\t,object_schema_name(C.OBJECT_ID) AS [SchemaName]\r\n",
                "\t\t,OBJECT_NAME(c.OBJECT_ID) AS [ObjectName]\r\n",
                "\t\t,c.name\r\n",
                "\t\t,c.column_id\r\n",
                "\t\t,t.name AS datatype\r\n",
                "\t\t,c.max_length\r\n",
                "\t\t,c.PRECISION\r\n",
                "\t\t,c.scale\r\n",
                "\t\t,c.collation_name\r\n",
                "\t\t,c.is_nullable\r\n",
                "\t\t,c.is_identity\r\n",
                "\t\t,c.is_computed\r\n",
                "\t\t,ic.is_primary_key\r\n",
                "\t\t,CAST(ident_col.seed_value AS INT) AS ident_col_seed_value\r\n",
                "\t\t,CAST(ident_col.increment_value AS INT) AS ident_col_increment_value\r\n",
                "\t\t,object_definition(c.default_object_id) AS Column_Default\r\n",
                "\t\t,CAST(p.value AS NVARCHAR(MAX)) AS DocumentationDescription\r\n",
                "\tFROM sys.columns AS c\r\n",
                "\tINNER JOIN sys.objects obj\r\n",
                "\t\tON obj.OBJECT_ID = c.OBJECT_ID\r\n",
                "\tLEFT JOIN sys.types t\r\n",
                "\t\tON t.user_type_id = c.user_type_id\r\n",
                "\tLEFT JOIN sys.identity_columns ident_col\r\n",
                "\t\tON c.OBJECT_ID = ident_col.OBJECT_ID\r\n",
                "\t\t\tAND c.column_id = ident_col.column_id\r\n",
                "\tLEFT JOIN (\r\n",
                "\t\tSELECT ic.OBJECT_ID\r\n",
                "\t\t\t,ic.column_id\r\n",
                "\t\t\t,is_primary_key\r\n",
                "\t\tFROM sys.index_columns ic\r\n",
                "\t\tLEFT JOIN sys.indexes AS i\r\n",
                "\t\t\tON i.OBJECT_ID = ic.OBJECT_ID\r\n",
                "\t\t\t\tAND i.index_id = ic.index_id\r\n",
                "\t\tWHERE is_primary_key = 1\r\n",
                "\t\t) ic\r\n",
                "\t\tON ic.OBJECT_ID = c.OBJECT_ID\r\n",
                "\t\t\tAND ic.column_id = c.column_id\r\n",
                "\tLEFT JOIN sys.extended_properties AS p\r\n",
                "\t\tON p.major_id = c.OBJECT_ID\r\n",
                "\t\t\tAND p.minor_id = c.column_id\r\n",
                "\t\t\tAND p.CLASS = 1\r\n",
                "\t\t\tAND p.name = 'MS_Description'\r\n",
                "\tWHERE obj.TYPE IN ('U','V')\r\n",
                "\r\n",
                "\r\n",
                "\tUNION ALL -- parameters\r\n",
                "\r\n",
                "\tSELECT  \r\n",
                "\t\t@@SERVERNAME AS SERVERNAME\r\n",
                "\t\t,DB_NAME() AS DatabaseName\r\n",
                "\t\t,[objectType] =sp.TYPE\r\n",
                "\r\n",
                "\t\t,object_schema_name(sp.OBJECT_ID) AS [TableSchemaName]\r\n",
                "\t\t,OBJECT_NAME(sp.OBJECT_ID) AS [TableName]\r\n",
                "\t\t,par.name\r\n",
                "\t\t,par.parameter_id\r\n",
                "\t\t,t.name AS datatype\r\n",
                "\t\t,par.max_length\r\n",
                "\t\t,par.PRECISION\r\n",
                "\t\t,par.scale\r\n",
                "\t\t,NULL AS collation_name\r\n",
                "\t\t,0 AS is_nullable\r\n",
                "\t\t,0 AS is_identity\r\n",
                "\t\t,0 AS is_computed\r\n",
                "\t\t,0 AS is_primary_key\r\n",
                "\t\t,0 AS ident_col_seed_value \r\n",
                "\t\t,0 AS ident_col_increment_value \r\n",
                "\t\t,NULL AS Column_Default \r\n",
                "\t\t,CAST(p.value AS NVARCHAR(MAX) ) AS DocumentationDescription\r\n",
                "\tFROM\r\n",
                "\tsys.all_objects AS sp\r\n",
                "\tINNER JOIN sys.PARAMETERS par ON sp.OBJECT_ID = par.OBJECT_ID\r\n",
                "\tLEFT JOIN sys.types t ON t.user_type_id = par.user_type_id\r\n",
                "\tLEFT JOIN sys.extended_properties AS p ON p.major_id=sp.OBJECT_ID AND p.CLASS=2\r\n",
                "\t\t\tAND p.minor_id = par.parameter_id\r\n",
                "\t\t\tAND p.name =  'MS_Description'\r\n",
                "\tWHERE par.name!=''\r\n",
                "\t\r\n",
                "\tUNION ALL\r\n",
                "\r\n",
                "\tSELECT \r\n",
                "\t\t@@SERVERNAME AS SERVERNAME\r\n",
                "\t\t,DB_NAME() AS DatabaseName\r\n",
                "\t\t,[ObjectType] = 'TT'\r\n",
                "\t\t,schema_name(tt.schema_id)  AS [SchemaName]\r\n",
                "\t\t,tt.name AS OBJECTName\r\n",
                "\t\t,c.name\r\n",
                "\t\t,c.column_id\r\n",
                "\t\t,t.name AS datatype\r\n",
                "\t\t,c.max_length\r\n",
                "\t\t,c.PRECISION\r\n",
                "\t\t,c.scale\r\n",
                "\t\t,c.collation_name\r\n",
                "\t\t,NULL AS is_nullable\r\n",
                "\t\t,NULL AS is_identity\r\n",
                "\t\t,NULL AS is_computed\r\n",
                "\t\t,NULL AS is_primary_key\r\n",
                "\t\t,NULL AS ident_col_seed_value\r\n",
                "\t\t,NULL AS ident_col_increment_value\r\n",
                "\t\t,NULL AS Column_Default\r\n",
                "\t\t,CAST(p.value AS NVARCHAR(MAX)) AS DocumentationDescription\r\n",
                "\tFROM sys.table_types tt\r\n",
                "\tINNER JOIN sys.columns c\r\n",
                "\t\tON c.object_id = tt.type_table_object_id\r\n",
                "\tLEFT JOIN sys.types t\r\n",
                "\t\tON t.user_type_id = c.user_type_id\r\n",
                "\tLEFT JOIN sys.extended_properties AS p\r\n",
                "\t\tON p.major_id = c.OBJECT_ID\r\n",
                "\t\t\tAND p.minor_id = c.column_id\r\n",
                "\t\t\tAND p.CLASS = 1\r\n",
                "\t\t\tAND p.name = 'MS_Description'\r\n",
                "\r\n",
                "\t;"
            ],
            "metadata": {
                "azdata_cell_guid": "9b946a5f-f6b2-43a1-9cf0-ac02760bd383"
            },
            "outputs": [
                {
                    "output_type": "display_data",
                    "data": {
                        "text/html": "Commands completed successfully."
                    },
                    "metadata": {}
                },
                {
                    "output_type": "display_data",
                    "data": {
                        "text/html": "Total execution time: 00:00:00.146"
                    },
                    "metadata": {}
                },
                {
                    "output_type": "execute_result",
                    "metadata": {},
                    "execution_count": 17,
                    "data": {
                        "application/vnd.dataresource+json": {
                            "schema": {
                                "fields": [
                                    {
                                        "name": "SERVERNAME"
                                    },
                                    {
                                        "name": "DatabaseName"
                                    },
                                    {
                                        "name": "ObjectType"
                                    },
                                    {
                                        "name": "SchemaName"
                                    },
                                    {
                                        "name": "ObjectName"
                                    },
                                    {
                                        "name": "name"
                                    },
                                    {
                                        "name": "column_id"
                                    },
                                    {
                                        "name": "datatype"
                                    },
                                    {
                                        "name": "max_length"
                                    },
                                    {
                                        "name": "PRECISION"
                                    },
                                    {
                                        "name": "scale"
                                    },
                                    {
                                        "name": "collation_name"
                                    },
                                    {
                                        "name": "is_nullable"
                                    },
                                    {
                                        "name": "is_identity"
                                    },
                                    {
                                        "name": "is_computed"
                                    },
                                    {
                                        "name": "is_primary_key"
                                    },
                                    {
                                        "name": "ident_col_seed_value"
                                    },
                                    {
                                        "name": "ident_col_increment_value"
                                    },
                                    {
                                        "name": "Column_Default"
                                    },
                                    {
                                        "name": "DocumentationDescription"
                                    }
                                ]
                            },
                            "data": [
                                {
                                    "0": "DESKTOP-LIPD7H3",
                                    "1": "test",
                                    "2": "U ",
                                    "3": "dbo",
                                    "4": "tbl",
                                    "5": "f1",
                                    "6": "1",
                                    "7": "int",
                                    "8": "4",
                                    "9": "10",
                                    "10": "0",
                                    "11": "NULL",
                                    "12": "1",
                                    "13": "0",
                                    "14": "0",
                                    "15": "NULL",
                                    "16": "NULL",
                                    "17": "NULL",
                                    "18": "NULL",
                                    "19": "Pf1 document description ."
                                },
                                {
                                    "0": "DESKTOP-LIPD7H3",
                                    "1": "test",
                                    "2": "U ",
                                    "3": "dbo",
                                    "4": "tbl",
                                    "5": "f2",
                                    "6": "2",
                                    "7": "varchar",
                                    "8": "10",
                                    "9": "0",
                                    "10": "0",
                                    "11": "Latin1_General_CI_AS",
                                    "12": "1",
                                    "13": "0",
                                    "14": "0",
                                    "15": "NULL",
                                    "16": "NULL",
                                    "17": "NULL",
                                    "18": "NULL",
                                    "19": "f2 code field ."
                                }
                            ]
                        },
                        "text/html": "<table><tr><th>SERVERNAME</th><th>DatabaseName</th><th>ObjectType</th><th>SchemaName</th><th>ObjectName</th><th>name</th><th>column_id</th><th>datatype</th><th>max_length</th><th>PRECISION</th><th>scale</th><th>collation_name</th><th>is_nullable</th><th>is_identity</th><th>is_computed</th><th>is_primary_key</th><th>ident_col_seed_value</th><th>ident_col_increment_value</th><th>Column_Default</th><th>DocumentationDescription</th></tr><tr><td>DESKTOP-LIPD7H3</td><td>test</td><td>U </td><td>dbo</td><td>tbl</td><td>f1</td><td>1</td><td>int</td><td>4</td><td>10</td><td>0</td><td>NULL</td><td>1</td><td>0</td><td>0</td><td>NULL</td><td>NULL</td><td>NULL</td><td>NULL</td><td>Pf1 document description .</td></tr><tr><td>DESKTOP-LIPD7H3</td><td>test</td><td>U </td><td>dbo</td><td>tbl</td><td>f2</td><td>2</td><td>varchar</td><td>10</td><td>0</td><td>0</td><td>Latin1_General_CI_AS</td><td>1</td><td>0</td><td>0</td><td>NULL</td><td>NULL</td><td>NULL</td><td>NULL</td><td>f2 code field .</td></tr></table>"
                    }
                }
            ],
            "execution_count": 17
        }
    ]
}